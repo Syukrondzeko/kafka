{
 "cells": [
  {
   "cell_type": "code",
   "execution_count": 5,
   "metadata": {},
   "outputs": [],
   "source": [
    "# !pip install -q kafka-python"
   ]
  },
  {
   "cell_type": "code",
   "execution_count": 4,
   "metadata": {},
   "outputs": [],
   "source": [
    "bs = '192.xxx.xxx.xxx'"
   ]
  },
  {
   "cell_type": "code",
   "execution_count": 8,
   "metadata": {},
   "outputs": [],
   "source": [
    "from time import sleep\n",
    "from json import dumps\n",
    "from kafka import KafkaProducer\n",
    "import random\n",
    "import datetime as dt\n",
    "\n",
    "\n",
    "def publish_message(producer_instance, topic_name, key, value):\n",
    "    try:\n",
    "        key_bytes = bytes(key, encoding='utf-8')\n",
    "        value_bytes = bytes(value, encoding='utf-8')\n",
    "        producer_instance.send(topic_name, key=key_bytes, value=value_bytes)\n",
    "        producer_instance.flush()\n",
    "        print('Data: ' + str(value))\n",
    "    except Exception as ex:\n",
    "        print('Exception in publishing message.')\n",
    "        print(str(ex))\n",
    "        \n",
    "def connect_kafka_producer():\n",
    "    _producer = None\n",
    "    try:\n",
    "        _producer = KafkaProducer(bootstrap_servers=[bs],\n",
    "                                  api_version=(0, 10))\n",
    "    except Exception as ex:\n",
    "        print('Exception while connecting Kafka.')\n",
    "        print(str(ex))\n",
    "    finally:\n",
    "        return _producer"
   ]
  },
  {
   "cell_type": "code",
   "execution_count": 9,
   "metadata": {},
   "outputs": [
    {
     "name": "stdout",
     "output_type": "stream",
     "text": [
      "Publishing records..\n",
      "Data: 00:34:20,1,-0\n",
      "Data: 00:34:21,4,-0\n",
      "Data: 00:34:22,2,-0\n",
      "Data: 00:34:23,1,-0\n",
      "Data: 00:34:24,1,-0\n",
      "Data: 00:34:25,4,-4\n",
      "Data: 00:34:26,4,-3\n",
      "Data: 00:34:27,4,-4\n",
      "Data: 00:34:28,1,-4\n",
      "Data: 00:34:29,2,-0\n",
      "Data: 00:34:30,1,-0\n",
      "Data: 00:34:31,1,-3\n",
      "Data: 00:34:32,4,-4\n",
      "Data: 00:34:33,4,-3\n",
      "Data: 00:34:34,2,-3\n",
      "Data: 00:34:35,2,-0\n",
      "Data: 00:34:36,3,-4\n",
      "Data: 00:34:37,3,-3\n",
      "Data: 00:34:38,2,-2\n",
      "Data: 00:34:39,1,-1\n",
      "Data: 00:34:40,3,-2\n",
      "Data: 00:34:41,4,-3\n",
      "Data: 00:34:42,1,-1\n",
      "Data: 00:34:43,3,-0\n",
      "Data: 00:34:44,3,-3\n",
      "Data: 00:34:45,1,-1\n",
      "Data: 00:34:46,2,-3\n",
      "Data: 00:34:47,4,-1\n",
      "Data: 00:34:48,3,-1\n",
      "Data: 00:34:49,1,-2\n",
      "Data: 00:34:50,4,-0\n",
      "Data: 00:34:51,1,-2\n",
      "Data: 00:34:52,4,-3\n",
      "Data: 00:34:53,2,-2\n",
      "Data: 00:34:54,4,-4\n",
      "Data: 00:34:56,2,-2\n",
      "Data: 00:34:57,1,-2\n",
      "Data: 00:34:58,2,-3\n",
      "Data: 00:34:59,3,-4\n",
      "Data: 00:35:00,3,-3\n",
      "Data: 00:35:01,1,-2\n",
      "Data: 00:35:02,4,-2\n",
      "Data: 00:35:03,3,-3\n",
      "Data: 00:35:04,4,-4\n",
      "Data: 00:35:05,4,-3\n",
      "Data: 00:35:06,1,-0\n",
      "Data: 00:35:07,3,-3\n",
      "Data: 00:35:08,3,-2\n",
      "Data: 00:35:09,4,-0\n",
      "Data: 00:35:10,3,-2\n",
      "Data: 00:35:11,3,-0\n",
      "Data: 00:35:12,3,-3\n",
      "Data: 00:35:13,1,-1\n",
      "Data: 00:35:14,2,-3\n",
      "Data: 00:35:15,2,-0\n",
      "Data: 00:35:16,1,-0\n",
      "Data: 00:35:17,4,-2\n",
      "Data: 00:35:18,3,-2\n",
      "Data: 00:35:19,2,-0\n",
      "Data: 00:35:20,4,-3\n",
      "Data: 00:35:21,1,-0\n",
      "Data: 00:35:22,2,-3\n",
      "Data: 00:35:23,2,-3\n",
      "Data: 00:35:24,2,-0\n",
      "Data: 00:35:25,2,-0\n",
      "Data: 00:35:26,2,-0\n",
      "Data: 00:35:27,1,-0\n",
      "Data: 00:35:28,4,-2\n",
      "Data: 00:35:29,1,-0\n",
      "Data: 00:35:30,2,-3\n",
      "Data: 00:35:31,3,-3\n",
      "Data: 00:35:32,4,-4\n"
     ]
    },
    {
     "ename": "KeyboardInterrupt",
     "evalue": "",
     "output_type": "error",
     "traceback": [
      "\u001b[0;31m---------------------------------------------------------------------------\u001b[0m",
      "\u001b[0;31mKeyboardInterrupt\u001b[0m                         Traceback (most recent call last)",
      "Cell \u001b[0;32mIn[9], line 16\u001b[0m\n\u001b[1;32m     14\u001b[0m     data \u001b[38;5;241m=\u001b[39m \u001b[38;5;28mstr\u001b[39m(dt\u001b[38;5;241m.\u001b[39mdatetime\u001b[38;5;241m.\u001b[39mnow()\u001b[38;5;241m.\u001b[39mstrftime(\u001b[38;5;124m\"\u001b[39m\u001b[38;5;132;01m%X\u001b[39;00m\u001b[38;5;124m\"\u001b[39m)) \u001b[38;5;241m+\u001b[39m \u001b[38;5;124m'\u001b[39m\u001b[38;5;124m,\u001b[39m\u001b[38;5;124m'\u001b[39m \u001b[38;5;241m+\u001b[39m \u001b[38;5;28mstr\u001b[39m(random\u001b[38;5;241m.\u001b[39mrandrange(\u001b[38;5;241m1\u001b[39m,\u001b[38;5;241m5\u001b[39m))  \u001b[38;5;241m+\u001b[39m \u001b[38;5;124m'\u001b[39m\u001b[38;5;124m,-\u001b[39m\u001b[38;5;124m'\u001b[39m \u001b[38;5;241m+\u001b[39m \u001b[38;5;28mstr\u001b[39m(random\u001b[38;5;241m.\u001b[39mrandrange(\u001b[38;5;241m0\u001b[39m,\u001b[38;5;241m5\u001b[39m))\n\u001b[1;32m     15\u001b[0m publish_message(producer, topic, \u001b[38;5;124m'\u001b[39m\u001b[38;5;124mparsed\u001b[39m\u001b[38;5;124m'\u001b[39m, data)\n\u001b[0;32m---> 16\u001b[0m sleep(\u001b[38;5;241m1\u001b[39m)\n",
      "\u001b[0;31mKeyboardInterrupt\u001b[0m: "
     ]
    }
   ],
   "source": [
    "topic = 'TestKafka'\n",
    "print('Publishing records..')\n",
    "producer = connect_kafka_producer()\n",
    "\n",
    "# Data format: time, incoming attendees, outgoing attendees\n",
    "# Assumption: For the sake of demonstartion we assume \n",
    "# - For the first 5 seconds there will be no outgoing attendees.\n",
    "# - Every second we can have 1 to 5 incoming attendees.\n",
    "# - Every second we can have 0 to 5 outgoing attendees.\n",
    "for e in range(100):\n",
    "    if e < 5:\n",
    "        data = str(dt.datetime.now().strftime(\"%X\")) + ',' + str(random.randrange(1,5))  + ',-0'\n",
    "    else:\n",
    "        data = str(dt.datetime.now().strftime(\"%X\")) + ',' + str(random.randrange(1,5))  + ',-' + str(random.randrange(0,5))\n",
    "    publish_message(producer, topic, 'parsed', data)\n",
    "    sleep(1)"
   ]
  },
  {
   "cell_type": "code",
   "execution_count": null,
   "metadata": {},
   "outputs": [],
   "source": []
  }
 ],
 "metadata": {
  "kernelspec": {
   "display_name": "Python 3 (ipykernel)",
   "language": "python",
   "name": "python3"
  },
  "language_info": {
   "codemirror_mode": {
    "name": "ipython",
    "version": 3
   },
   "file_extension": ".py",
   "mimetype": "text/x-python",
   "name": "python",
   "nbconvert_exporter": "python",
   "pygments_lexer": "ipython3",
   "version": "3.11.6"
  }
 },
 "nbformat": 4,
 "nbformat_minor": 4
}
