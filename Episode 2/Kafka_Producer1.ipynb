{
 "cells": [
  {
   "cell_type": "code",
   "execution_count": 3,
   "metadata": {},
   "outputs": [],
   "source": [
    "bs = 'xxx.xxx.xxx.xxx:xxxx'"
   ]
  },
  {
   "cell_type": "code",
   "execution_count": 4,
   "metadata": {},
   "outputs": [],
   "source": [
    "# import statements\n",
    "from time import sleep\n",
    "from json import dumps\n",
    "from kafka import KafkaProducer\n",
    "import random\n",
    "import datetime as dt\n",
    "\n",
    "\n",
    "def publish_message(producer_instance, topic_name, key, value):\n",
    "    try:\n",
    "        key_bytes = bytes(key, encoding='utf-8')\n",
    "        value_bytes = bytes(value, encoding='utf-8')\n",
    "        producer_instance.send(topic_name, key=key_bytes, value=value_bytes)\n",
    "        producer_instance.flush()\n",
    "        print('Data: ' + str(value))\n",
    "    except Exception as ex:\n",
    "        print('Exception in publishing message.')\n",
    "        print(str(ex))\n",
    "        \n",
    "def connect_kafka_producer():\n",
    "    _producer = None\n",
    "    try:\n",
    "        _producer = KafkaProducer(bootstrap_servers=[bs],\n",
    "                                  api_version=(0, 10))\n",
    "    except Exception as ex:\n",
    "        print('Exception while connecting Kafka.')\n",
    "        print(str(ex))\n",
    "    finally:\n",
    "        return _producer"
   ]
  },
  {
   "cell_type": "code",
   "execution_count": 5,
   "metadata": {},
   "outputs": [
    {
     "name": "stdout",
     "output_type": "stream",
     "text": [
      "Publishing records..\n",
      "Data: R,2,60\n",
      "Data: R,3,68\n",
      "Data: R,5,89\n",
      "Data: R,8,86\n",
      "Data: R,1,10\n",
      "Data: R,9,33\n",
      "Data: R,5,11\n",
      "Data: R,9,17\n",
      "Data: R,7,57\n",
      "Data: R,6,38\n",
      "Data: R,8,44\n",
      "Data: R,1,43\n",
      "Data: R,5,35\n",
      "Data: R,3,66\n",
      "Data: R,4,4\n",
      "Data: R,1,14\n",
      "Data: R,2,69\n",
      "Data: R,7,23\n",
      "Data: R,5,22\n",
      "Data: R,3,35\n",
      "Data: R,7,34\n",
      "Data: R,4,2\n",
      "Data: R,7,14\n",
      "Data: R,1,29\n",
      "Data: R,9,57\n",
      "Data: R,2,66\n",
      "Data: R,5,30\n",
      "Data: R,1,62\n",
      "Data: R,3,2\n",
      "Data: R,6,89\n",
      "Data: R,8,31\n",
      "Data: R,9,69\n",
      "Data: R,4,99\n",
      "Data: R,5,48\n",
      "Data: R,2,45\n",
      "Data: R,1,33\n",
      "Data: R,7,23\n",
      "Data: R,8,13\n",
      "Data: R,5,33\n",
      "Data: R,5,37\n",
      "Data: R,3,55\n",
      "Data: R,4,55\n",
      "Data: R,3,78\n",
      "Data: R,8,6\n",
      "Data: R,1,47\n",
      "Data: R,5,93\n",
      "Data: R,1,85\n",
      "Data: R,4,84\n",
      "Data: R,2,45\n",
      "Data: R,6,54\n",
      "Data: R,4,97\n",
      "Data: R,3,27\n",
      "Data: R,7,88\n",
      "Data: R,3,88\n"
     ]
    },
    {
     "ename": "KeyboardInterrupt",
     "evalue": "",
     "output_type": "error",
     "traceback": [
      "\u001b[0;31m---------------------------------------------------------------------------\u001b[0m",
      "\u001b[0;31mKeyboardInterrupt\u001b[0m                         Traceback (most recent call last)",
      "Cell \u001b[0;32mIn[5], line 9\u001b[0m\n\u001b[1;32m      7\u001b[0m data \u001b[38;5;241m=\u001b[39m \u001b[38;5;124m'\u001b[39m\u001b[38;5;124mR\u001b[39m\u001b[38;5;124m'\u001b[39m\u001b[38;5;241m+\u001b[39m \u001b[38;5;124m'\u001b[39m\u001b[38;5;124m,\u001b[39m\u001b[38;5;124m'\u001b[39m \u001b[38;5;241m+\u001b[39m \u001b[38;5;28mstr\u001b[39m(random\u001b[38;5;241m.\u001b[39mrandrange(\u001b[38;5;241m1\u001b[39m,\u001b[38;5;241m10\u001b[39m))  \u001b[38;5;241m+\u001b[39m \u001b[38;5;124m'\u001b[39m\u001b[38;5;124m,\u001b[39m\u001b[38;5;124m'\u001b[39m \u001b[38;5;241m+\u001b[39m \u001b[38;5;28mstr\u001b[39m(random\u001b[38;5;241m.\u001b[39mrandrange(\u001b[38;5;241m1\u001b[39m,\u001b[38;5;241m100\u001b[39m))\n\u001b[1;32m      8\u001b[0m publish_message(producer, topic, \u001b[38;5;124m'\u001b[39m\u001b[38;5;124mparsed\u001b[39m\u001b[38;5;124m'\u001b[39m, data)\n\u001b[0;32m----> 9\u001b[0m sleep(\u001b[38;5;241m1\u001b[39m)\n",
      "\u001b[0;31mKeyboardInterrupt\u001b[0m: "
     ]
    }
   ],
   "source": [
    "topic = 'TestKafka2'\n",
    "print('Publishing records..')\n",
    "producer = connect_kafka_producer()\n",
    "\n",
    "# Data format: table, key, value\n",
    "for e in range(100):\n",
    "    data = 'R'+ ',' + str(random.randrange(1,10))  + ',' + str(random.randrange(1,100))\n",
    "    publish_message(producer, topic, 'parsed', data)\n",
    "    sleep(1)"
   ]
  },
  {
   "cell_type": "code",
   "execution_count": null,
   "metadata": {},
   "outputs": [],
   "source": []
  }
 ],
 "metadata": {
  "kernelspec": {
   "display_name": "Python 3 (ipykernel)",
   "language": "python",
   "name": "python3"
  },
  "language_info": {
   "codemirror_mode": {
    "name": "ipython",
    "version": 3
   },
   "file_extension": ".py",
   "mimetype": "text/x-python",
   "name": "python",
   "nbconvert_exporter": "python",
   "pygments_lexer": "ipython3",
   "version": "3.11.6"
  }
 },
 "nbformat": 4,
 "nbformat_minor": 4
}
