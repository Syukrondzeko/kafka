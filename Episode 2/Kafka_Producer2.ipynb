{
 "cells": [
  {
   "cell_type": "code",
   "execution_count": 1,
   "metadata": {},
   "outputs": [],
   "source": [
    "bs = 'xxx.xxx.xxx.xxx:xxxx'"
   ]
  },
  {
   "cell_type": "code",
   "execution_count": 2,
   "metadata": {},
   "outputs": [],
   "source": [
    "# import statements\n",
    "from time import sleep\n",
    "from json import dumps\n",
    "from kafka import KafkaProducer\n",
    "import random\n",
    "import datetime as dt\n",
    "\n",
    "\n",
    "def publish_message(producer_instance, topic_name, key, value):\n",
    "    try:\n",
    "        key_bytes = bytes(key, encoding='utf-8')\n",
    "        value_bytes = bytes(value, encoding='utf-8')\n",
    "        producer_instance.send(topic_name, key=key_bytes, value=value_bytes)\n",
    "        producer_instance.flush()\n",
    "        print('Data: ' + str(value))\n",
    "    except Exception as ex:\n",
    "        print('Exception in publishing message.')\n",
    "        print(str(ex))\n",
    "        \n",
    "def connect_kafka_producer():\n",
    "    _producer = None\n",
    "    try:\n",
    "        _producer = KafkaProducer(bootstrap_servers=[bs],\n",
    "                                  api_version=(0, 10))\n",
    "    except Exception as ex:\n",
    "        print('Exception while connecting Kafka.')\n",
    "        print(str(ex))\n",
    "    finally:\n",
    "        return _producer"
   ]
  },
  {
   "cell_type": "code",
   "execution_count": 3,
   "metadata": {},
   "outputs": [
    {
     "name": "stdout",
     "output_type": "stream",
     "text": [
      "Publishing records..\n",
      "Data: S,7,21\n",
      "Data: S,8,21\n",
      "Data: S,7,7\n",
      "Data: S,1,17\n",
      "Data: S,9,89\n",
      "Data: S,9,75\n",
      "Data: S,1,14\n",
      "Data: S,3,77\n",
      "Data: S,5,37\n",
      "Data: S,7,65\n",
      "Data: S,5,47\n",
      "Data: S,1,29\n",
      "Data: S,8,94\n",
      "Data: S,9,34\n",
      "Data: S,7,39\n",
      "Data: S,2,55\n",
      "Data: S,5,3\n",
      "Data: S,1,40\n",
      "Data: S,3,40\n",
      "Data: S,4,59\n",
      "Data: S,2,32\n",
      "Data: S,3,63\n",
      "Data: S,7,55\n",
      "Data: S,5,33\n",
      "Data: S,5,11\n",
      "Data: S,1,90\n",
      "Data: S,1,9\n",
      "Data: S,5,39\n",
      "Data: S,5,9\n",
      "Data: S,2,55\n",
      "Data: S,3,14\n",
      "Data: S,7,7\n",
      "Data: S,4,82\n",
      "Data: S,5,20\n",
      "Data: S,8,71\n",
      "Data: S,2,66\n",
      "Data: S,3,67\n",
      "Data: S,1,42\n",
      "Data: S,1,3\n",
      "Data: S,2,44\n",
      "Data: S,9,73\n",
      "Data: S,1,27\n",
      "Data: S,5,48\n",
      "Data: S,9,39\n",
      "Data: S,1,73\n"
     ]
    },
    {
     "ename": "KeyboardInterrupt",
     "evalue": "",
     "output_type": "error",
     "traceback": [
      "\u001b[0;31m---------------------------------------------------------------------------\u001b[0m",
      "\u001b[0;31mKeyboardInterrupt\u001b[0m                         Traceback (most recent call last)",
      "Cell \u001b[0;32mIn[3], line 9\u001b[0m\n\u001b[1;32m      7\u001b[0m data \u001b[38;5;241m=\u001b[39m \u001b[38;5;124m'\u001b[39m\u001b[38;5;124mS\u001b[39m\u001b[38;5;124m'\u001b[39m \u001b[38;5;241m+\u001b[39m \u001b[38;5;124m'\u001b[39m\u001b[38;5;124m,\u001b[39m\u001b[38;5;124m'\u001b[39m \u001b[38;5;241m+\u001b[39m \u001b[38;5;28mstr\u001b[39m(random\u001b[38;5;241m.\u001b[39mrandrange(\u001b[38;5;241m1\u001b[39m,\u001b[38;5;241m10\u001b[39m))  \u001b[38;5;241m+\u001b[39m \u001b[38;5;124m'\u001b[39m\u001b[38;5;124m,\u001b[39m\u001b[38;5;124m'\u001b[39m \u001b[38;5;241m+\u001b[39m \u001b[38;5;28mstr\u001b[39m(random\u001b[38;5;241m.\u001b[39mrandrange(\u001b[38;5;241m1\u001b[39m,\u001b[38;5;241m100\u001b[39m))\n\u001b[1;32m      8\u001b[0m publish_message(producer, topic, \u001b[38;5;124m'\u001b[39m\u001b[38;5;124mparsed\u001b[39m\u001b[38;5;124m'\u001b[39m, data)\n\u001b[0;32m----> 9\u001b[0m sleep(\u001b[38;5;241m1\u001b[39m)\n",
      "\u001b[0;31mKeyboardInterrupt\u001b[0m: "
     ]
    }
   ],
   "source": [
    "topic = 'TestKafka2'\n",
    "print('Publishing records..')\n",
    "producer = connect_kafka_producer()\n",
    "\n",
    "# Data format: table, key, value\n",
    "for e in range(100):\n",
    "    data = 'S' + ',' + str(random.randrange(1,10))  + ',' + str(random.randrange(1,100))\n",
    "    publish_message(producer, topic, 'parsed', data)\n",
    "    sleep(1)"
   ]
  },
  {
   "cell_type": "code",
   "execution_count": null,
   "metadata": {},
   "outputs": [],
   "source": []
  }
 ],
 "metadata": {
  "kernelspec": {
   "display_name": "Python 3 (ipykernel)",
   "language": "python",
   "name": "python3"
  },
  "language_info": {
   "codemirror_mode": {
    "name": "ipython",
    "version": 3
   },
   "file_extension": ".py",
   "mimetype": "text/x-python",
   "name": "python",
   "nbconvert_exporter": "python",
   "pygments_lexer": "ipython3",
   "version": "3.11.6"
  }
 },
 "nbformat": 4,
 "nbformat_minor": 4
}
